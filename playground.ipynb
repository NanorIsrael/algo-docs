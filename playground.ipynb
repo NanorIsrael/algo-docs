{
 "cells": [
  {
   "cell_type": "code",
   "execution_count": 31,
   "metadata": {},
   "outputs": [
    {
     "data": {
      "text/plain": [
       "datetime.date(2024, 8, 20)"
      ]
     },
     "execution_count": 31,
     "metadata": {},
     "output_type": "execute_result"
    }
   ],
   "source": [
    "from datetime import date\n",
    "\n",
    "today = date.today()\n",
    "today"
   ]
  },
  {
   "cell_type": "code",
   "execution_count": 43,
   "metadata": {},
   "outputs": [],
   "source": [
    "my_birthday = date(1992, 5, 6)\n",
    "if my_birthday < today:\n",
    "\tmy_birthday = my_birthday.replace(today.year + 1)"
   ]
  },
  {
   "cell_type": "code",
   "execution_count": 44,
   "metadata": {},
   "outputs": [
    {
     "data": {
      "text/plain": [
       "datetime.timedelta(days=259)"
      ]
     },
     "execution_count": 44,
     "metadata": {},
     "output_type": "execute_result"
    }
   ],
   "source": [
    "time_to_birthday = abs(my_birthday - today)\n",
    "time_to_birthday"
   ]
  },
  {
   "cell_type": "code",
   "execution_count": 42,
   "metadata": {},
   "outputs": [
    {
     "data": {
      "text/plain": [
       "366"
      ]
     },
     "execution_count": 42,
     "metadata": {},
     "output_type": "execute_result"
    }
   ],
   "source": [
    "time_to_birthday.days"
   ]
  },
  {
   "cell_type": "code",
   "execution_count": 24,
   "metadata": {},
   "outputs": [],
   "source": [
    "def isPalindrome(text):\n",
    "\tseparators = [' ', '\\n', '\\t', '\\r', ',', ';', '!']\n",
    "\tsanitized_text = ''.join(char for char in text if char not in separators )\n",
    "\treturn sanitized_text == sanitized_text[::-1]"
   ]
  },
  {
   "cell_type": "code",
   "execution_count": 25,
   "metadata": {},
   "outputs": [
    {
     "data": {
      "text/plain": [
       "True"
      ]
     },
     "execution_count": 25,
     "metadata": {},
     "output_type": "execute_result"
    }
   ],
   "source": [
    "isPalindrome(\"sees\")"
   ]
  },
  {
   "cell_type": "code",
   "execution_count": 22,
   "metadata": {},
   "outputs": [
    {
     "name": "stdout",
     "output_type": "stream",
     "text": [
      "amanaplanacanalpanama\n",
      "amanaplanacanalpanama\n"
     ]
    },
    {
     "data": {
      "text/plain": [
       "True"
      ]
     },
     "execution_count": 22,
     "metadata": {},
     "output_type": "execute_result"
    }
   ],
   "source": [
    "isPalindrome('aman, aplan, acanal, panama')"
   ]
  },
  {
   "cell_type": "code",
   "execution_count": 28,
   "metadata": {},
   "outputs": [],
   "source": [
    "def bubbleSort(arr):\n",
    "\tsize = len(arr) - 1\n",
    "\tisSorted = True\n",
    "\twhile isSorted:\n",
    "\t\tisSorted = False\n",
    "\t\tfor i in range(0, size):\n",
    "\t\t\tif arr[i] > arr[i + 1]:\n",
    "\t\t\t\ttemp = arr[i]\n",
    "\t\t\t\tarr[i] = arr[i + 1]\n",
    "\t\t\t\tarr[i + 1] = temp\n",
    "\t\t\t\tisSorted = True\n",
    "\treturn arr"
   ]
  },
  {
   "cell_type": "code",
   "execution_count": 29,
   "metadata": {},
   "outputs": [
    {
     "name": "stdout",
     "output_type": "stream",
     "text": [
      "[1, 2, 3, 4, 5, 6, 7, 8, 9]\n"
     ]
    }
   ],
   "source": [
    "myArr = [9,4,8,5,7,1,3,2,6]\n",
    "print(bubbleSort(myArr))"
   ]
  },
  {
   "cell_type": "code",
   "execution_count": 45,
   "metadata": {},
   "outputs": [],
   "source": [
    "def is_match(s, p):\n",
    "\tif not p:\n",
    "\t\treturn not s\n",
    "\tfirst_match = bool(s) and (s[0] == p[0] or p[0] == '.')\n",
    "\tif len(p) >= 2 and p[1] == '*':\n",
    "\t\tcase1 = is_match(s, p[2:])\n",
    "\t\tcase2 = first_match and is_match(s[1:], p)\n",
    "\t\treturn case1 or case2\n",
    "\treturn first_match and is_match(s[1:], p[1:])"
   ]
  },
  {
   "cell_type": "code",
   "execution_count": 46,
   "metadata": {},
   "outputs": [
    {
     "name": "stdout",
     "output_type": "stream",
     "text": [
      "False\n",
      "True\n",
      "True\n",
      "True\n"
     ]
    }
   ],
   "source": [
    "print(is_match(\"aa\", \"a\"))      # False\n",
    "print(is_match(\"aa\", \"a*\"))     # True\n",
    "print(is_match(\"ab\", \".*\"))     # True\n",
    "print(is_match(\"aab\", \"c*a*b\")) # True"
   ]
  },
  {
   "cell_type": "code",
   "execution_count": 58,
   "metadata": {},
   "outputs": [
    {
     "name": "stdout",
     "output_type": "stream",
     "text": [
      "Nyangasi Mhozya\n",
      "\n"
     ]
    }
   ],
   "source": [
    "import re\n",
    "\n",
    "from annotated_types import LowerCase\n",
    "scrapper = re.compile(r'mhozya')\n",
    "\n",
    "with open('./misc/names.txt', 'r') as f:\n",
    "\tcontent = f.readlines()\n",
    "\n",
    "for name in content:\n",
    "\tif (scrapper.findall((name).lower())):\n",
    "\t\tprint(name)\n",
    "\t\n",
    "\t\n",
    "# print(scrapper.findall(Map(x: lowercase(x), content)))"
   ]
  },
  {
   "cell_type": "code",
   "execution_count": 60,
   "metadata": {},
   "outputs": [
    {
     "name": "stdout",
     "output_type": "stream",
     "text": [
      "{1, 2, 3, 5, 6, 7}\n"
     ]
    }
   ],
   "source": [
    "a = set([9,4,8,5,7,1,3,2,6])\n",
    "b = set([10,11,12,5,7,1,3,2,6])\n",
    "\n",
    "print(a)\n",
    "print(a.intersection(b))"
   ]
  },
  {
   "cell_type": "code",
   "execution_count": 84,
   "metadata": {},
   "outputs": [
    {
     "name": "stdout",
     "output_type": "stream",
     "text": [
      "27\n",
      "['getting', 'hash', 'for', 'artifact', '\"devissy/auth\":', 'getting', 'dependencies', 'for', '\"devissy/auth\":', 'parsing', 'ONBUILD', 'instructions:', 'retrieving', 'image', '\"node:alpine\":', 'Get', '\"https://index', 'docker', 'io/v2/\":', 'dial', 'tcp', '3', '219', '239', '5:443:', 'i/o', 'timeout']\n"
     ]
    }
   ],
   "source": [
    "words = 'getting hash for artifact \"devissy/auth\": getting dependencies for \"devissy/auth\": parsing ONBUILD instructions: retrieving image \"node:alpine\": Get \"https://index.docker.io/v2/\": dial tcp 3.219.239.5:443: i/o timeout.'\n",
    "seperators = [' ', '\\n', '\\t', '\\r', ',', ';', '!', '.', '?']\n",
    "prev_char = None\n",
    "sum = 0\n",
    "db = []\n",
    "word = ''\n",
    "for char in words:\n",
    "\tprev_char = char\n",
    "\tif char not in seperators and prev_char is not None:\n",
    "\t\tword += char\n",
    "\telse:\n",
    "\t\tsum += 1\n",
    "\t\tdb.append(word)\n",
    "\t\tword = ''\n",
    "\t\tprev_char = None\n",
    "\n",
    "print(sum)\n",
    "print( db)"
   ]
  },
  {
   "cell_type": "code",
   "execution_count": 90,
   "metadata": {},
   "outputs": [
    {
     "name": "stdout",
     "output_type": "stream",
     "text": [
      "['getting', 'hash', 'for', 'artifact', '\"devissy/auth\":', 'getting', 'dependencies', 'for', '\"devissy/auth\":', 'parsing', 'ONBUILD', 'instructions:', 'retrieving', 'image', '\"node:alpine\":', 'Get', '\"https://index.docker.io/v2/\":', 'dial', 'tcp', '3.219.239.5:443:', 'i/o', 'timeout.']\n"
     ]
    },
    {
     "data": {
      "text/plain": [
       "True"
      ]
     },
     "execution_count": 90,
     "metadata": {},
     "output_type": "execute_result"
    }
   ],
   "source": [
    "print(words.split(' '))\n",
    "def is_seperator(char):\n",
    "\treturn char in [' ', '\\n', '\\t', '\\r', ',', ';', '!', '.']\n",
    "\n",
    "is_seperator('\t')"
   ]
  },
  {
   "cell_type": "code",
   "execution_count": 91,
   "metadata": {},
   "outputs": [],
   "source": [
    "def words_in_a_text(txt):\n",
    "\twords_array = []\n",
    "\tstart_word = -1\n",
    "\tfor i in range(0, len(txt), 1):\n",
    "\t\tc = txt[i] if i < len(txt) else \" \"\n",
    "\t\tif not is_seperator(txt[i]) and start_word < 0:\n",
    "\t\t\tstart_word = i\n",
    "\t\t\n",
    "\t\tif is_seperator(txt[i]) and start_word >= 0:\n",
    "\t\t\tword = txt[start_word:i]\n",
    "\t\t\twords_array.append(word)\n",
    "\t\t\tstart_word = -1\n",
    "\treturn words_array"
   ]
  },
  {
   "cell_type": "code",
   "execution_count": 93,
   "metadata": {},
   "outputs": [
    {
     "data": {
      "text/plain": [
       "27"
      ]
     },
     "execution_count": 93,
     "metadata": {},
     "output_type": "execute_result"
    }
   ],
   "source": [
    "len(words_in_a_text(words))"
   ]
  },
  {
   "cell_type": "code",
   "execution_count": null,
   "metadata": {},
   "outputs": [],
   "source": [
    "a = set(['a.com', 'b.com', 'b.com', 'c.com'])"
   ]
  }
 ],
 "metadata": {
  "kernelspec": {
   "display_name": "venv",
   "language": "python",
   "name": "python3"
  },
  "language_info": {
   "codemirror_mode": {
    "name": "ipython",
    "version": 3
   },
   "file_extension": ".py",
   "mimetype": "text/x-python",
   "name": "python",
   "nbconvert_exporter": "python",
   "pygments_lexer": "ipython3",
   "version": "3.8.9"
  }
 },
 "nbformat": 4,
 "nbformat_minor": 2
}
